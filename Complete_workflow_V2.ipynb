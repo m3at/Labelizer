{
 "cells": [
  {
   "cell_type": "markdown",
   "metadata": {},
   "source": [
    "#Labeling an unseen corpus\n",
    "##Part 0, everything mixed\n",
    "\n",
    "\n",
    "Lets preparethe necessary data\n",
    "\n",
    "[link](#shortcut \"intra link\")\n",
    "\n",
    "[Wikipedia](https://en.wikipedia.org/wiki/Main_Page \"But what is wikipedia?\")"
   ]
  },
  {
   "cell_type": "markdown",
   "metadata": {},
   "source": [
    "Bunch of imports"
   ]
  },
  {
   "cell_type": "code",
   "execution_count": 1,
   "metadata": {
    "collapsed": false
   },
   "outputs": [],
   "source": [
    "%matplotlib inline\n",
    "from __future__ import absolute_import\n",
    "from __future__ import print_function\n",
    "\n",
    "# import local library\n",
    "import tools\n",
    "import prepare\n",
    "import lemmatize\n",
    "import analyze\n",
    "import preprocess\n",
    "import nnlstm"
   ]
  },
  {
   "cell_type": "markdown",
   "metadata": {},
   "source": [
    "##Exctract the MedLine data"
   ]
  },
  {
   "cell_type": "code",
   "execution_count": 2,
   "metadata": {
    "collapsed": false
   },
   "outputs": [
    {
     "name": "stdout",
     "output_type": "stream",
     "text": [
      "Exctracting from 'reduced_10000'...\n",
      "224 documents exctracted - 1.9KB  [298.1KB/s]\n",
      "Done. [0.01s]\n"
     ]
    }
   ],
   "source": [
    "data = prepare.extract_txt('OLD/data_old/reduced_10000.txt')"
   ]
  },
  {
   "cell_type": "markdown",
   "metadata": {},
   "source": [
    "##Isolate the abstracts"
   ]
  },
  {
   "cell_type": "code",
   "execution_count": 3,
   "metadata": {
    "collapsed": false
   },
   "outputs": [
    {
     "name": "stdout",
     "output_type": "stream",
     "text": [
      "Working on 4 core...\n",
      "1.4KB/s on each of the [4] core\n",
      "Done. [0.34s]\n"
     ]
    }
   ],
   "source": [
    "abstracts = prepare.get_abstracts(data)"
   ]
  },
  {
   "cell_type": "markdown",
   "metadata": {},
   "source": [
    "Cleaning, dumping the abstracts with errors, quick and dirty"
   ]
  },
  {
   "cell_type": "code",
   "execution_count": 4,
   "metadata": {
    "collapsed": true
   },
   "outputs": [],
   "source": [
    "def remove_err(datas,errs):\n",
    "    err=sorted([item for subitem in errs for item in subitem],reverse=True)\n",
    "    for e in err:\n",
    "        for d in datas:\n",
    "            del d[e]"
   ]
  },
  {
   "cell_type": "code",
   "execution_count": 5,
   "metadata": {
    "collapsed": true
   },
   "outputs": [],
   "source": [
    "remove_err([abstracts],prepare.get_errors(abstracts))"
   ]
  },
  {
   "cell_type": "markdown",
   "metadata": {},
   "source": [
    "Replacing numbers with ##NB"
   ]
  },
  {
   "cell_type": "code",
   "execution_count": 6,
   "metadata": {
    "collapsed": false
   },
   "outputs": [
    {
     "name": "stdout",
     "output_type": "stream",
     "text": [
      "Filtering numbers...\n",
      "Done. [0.04s]\n"
     ]
    }
   ],
   "source": [
    "abstracts = prepare.filter_numbers(abstracts)"
   ]
  },
  {
   "cell_type": "markdown",
   "metadata": {},
   "source": [
    "Creation of a tokenizer for a correct sentence splitting"
   ]
  },
  {
   "cell_type": "code",
   "execution_count": 7,
   "metadata": {
    "collapsed": false
   },
   "outputs": [
    {
     "name": "stdout",
     "output_type": "stream",
     "text": [
      "Loading sentence tokenizer...\n",
      "Done. [0.12s]\n"
     ]
    }
   ],
   "source": [
    "tokenizer = prepare.create_sentence_tokenizer(abstracts)"
   ]
  },
  {
   "cell_type": "code",
   "execution_count": 8,
   "metadata": {
    "collapsed": false,
    "scrolled": true
   },
   "outputs": [
    {
     "name": "stdout",
     "output_type": "stream",
     "text": [
      "Working on 4 core...\n",
      "1.3KB/s on each of the [4] core\n",
      "Done. [0.39s]\n"
     ]
    }
   ],
   "source": [
    "abstracts_labeled = prepare.ex_all_labels(abstracts,tokenizer)"
   ]
  },
  {
   "cell_type": "markdown",
   "metadata": {},
   "source": [
    "##Lemmatization and special imports"
   ]
  },
  {
   "cell_type": "code",
   "execution_count": 9,
   "metadata": {
    "collapsed": false
   },
   "outputs": [
    {
     "name": "stdout",
     "output_type": "stream",
     "text": [
      "Working on 4 core...\n",
      "Splitting datas... Done. [0.01s]\n",
      "Lemmatizing...\n",
      "Done. [0min 14s]\n"
     ]
    }
   ],
   "source": [
    "lemmatized = lemmatize.lemm(abstracts_labeled)"
   ]
  },
  {
   "cell_type": "code",
   "execution_count": 25,
   "metadata": {
    "collapsed": false
   },
   "outputs": [
    {
     "name": "stdout",
     "output_type": "stream",
     "text": [
      "File already exist. Overwrite? [Y/N]\n",
      ">Y\n",
      "Dumping...\n",
      "Done. [0.05s]\n"
     ]
    }
   ],
   "source": [
    "tools.dump_pickle(lemmatized,\"fast_lemmatized.pickle\")"
   ]
  },
  {
   "cell_type": "code",
   "execution_count": 26,
   "metadata": {
    "collapsed": false
   },
   "outputs": [
    {
     "name": "stdout",
     "output_type": "stream",
     "text": [
      "Loading 'fast_lemmatized.pickle'...\n",
      "Done. [0.03s]\n"
     ]
    }
   ],
   "source": [
    "lemmatized = tools.load_pickle(\"fast_lemmatized.pickle\")"
   ]
  },
  {
   "cell_type": "markdown",
   "metadata": {},
   "source": [
    "###Label analysis\n",
    "*Does not affect the corpus*"
   ]
  },
  {
   "cell_type": "code",
   "execution_count": 27,
   "metadata": {
    "collapsed": false
   },
   "outputs": [
    {
     "name": "stdout",
     "output_type": "stream",
     "text": [
      "Copying corpus...Done. [0.01s]\n",
      "Creating dictionary of labels...\n",
      "Done. [0.00s]\n"
     ]
    }
   ],
   "source": [
    "dic = analyze.create_dic_simple(lemmatized)"
   ]
  },
  {
   "cell_type": "code",
   "execution_count": 28,
   "metadata": {
    "collapsed": false,
    "scrolled": true
   },
   "outputs": [
    {
     "name": "stdout",
     "output_type": "stream",
     "text": [
      "Number of labels : 58\n",
      "195______RESULTS\n",
      "151______METHODS\n",
      "146______BACKGROUND\n",
      "117______CONCLUSIONS\n",
      "91_______CONCLUSION\n",
      "26_______INTRODUCTION\n",
      "22_______OBJECTIVE\n",
      "16_______MATERIALS AND METHODS\n",
      "10_______OBJECTIVES\n",
      "10_______PURPOSE\n",
      "...\n",
      "(48 other labels with less than 10 occurences)\n",
      "...\n"
     ]
    }
   ],
   "source": [
    "print(\"Number of labels :\",len(dic.keys()))\n",
    "analyze.show_keys(dic,threshold=10)"
   ]
  },
  {
   "cell_type": "code",
   "execution_count": 29,
   "metadata": {
    "collapsed": true
   },
   "outputs": [],
   "source": [
    "primary_keyword=['AIM','BACKGROUND','METHOD','RESULT','CONCLUSION','OBJECTIVE','DESIGN','FINDINGS','OUTCOME','PURPOSE']"
   ]
  },
  {
   "cell_type": "code",
   "execution_count": 30,
   "metadata": {
    "collapsed": false
   },
   "outputs": [
    {
     "name": "stdout",
     "output_type": "stream",
     "text": [
      "Keys regrouped: 30\n"
     ]
    }
   ],
   "source": [
    "analyze.regroup_keys(dic,primary_keyword)"
   ]
  },
  {
   "cell_type": "code",
   "execution_count": 31,
   "metadata": {
    "collapsed": false
   },
   "outputs": [
    {
     "name": "stdout",
     "output_type": "stream",
     "text": [
      "212______CONCLUSION\n",
      "200______RESULT\n",
      "192______METHOD\n",
      "149______BACKGROUND\n",
      "33_______OBJECTIVE\n",
      "26_______INTRODUCTION\n",
      "10_______PURPOSE\n",
      "...\n",
      "(22 other labels with less than 10 occurences)\n",
      "...\n"
     ]
    }
   ],
   "source": [
    "analyze.show_keys(dic,threshold=10)"
   ]
  },
  {
   "cell_type": "code",
   "execution_count": 32,
   "metadata": {
    "collapsed": false
   },
   "outputs": [],
   "source": [
    "keys_to_replace = [['INTRODUCTION'],\n",
    "                   ['AIM','PURPOSE'],\n",
    "                   ['CONTEXT']]\n",
    "\n",
    "replace_with =    ['BACKGROUND',\n",
    "                   'OBJECTIVE',\n",
    "                   'BACKGROUND']"
   ]
  },
  {
   "cell_type": "code",
   "execution_count": 33,
   "metadata": {
    "collapsed": false
   },
   "outputs": [
    {
     "name": "stdout",
     "output_type": "stream",
     "text": [
      "Keys regplaced: 4\n"
     ]
    }
   ],
   "source": [
    "analyze.replace_keys(dic,keys_to_replace,replace_with)"
   ]
  },
  {
   "cell_type": "code",
   "execution_count": 34,
   "metadata": {
    "collapsed": false
   },
   "outputs": [
    {
     "name": "stdout",
     "output_type": "stream",
     "text": [
      "212______CONCLUSION\n",
      "200______RESULT\n",
      "192______METHOD\n",
      "176______BACKGROUND\n",
      "52_______OBJECTIVE\n",
      "...\n",
      "(20 other labels with less than 10 occurences)\n",
      "...\n"
     ]
    }
   ],
   "source": [
    "analyze.show_keys(dic,threshold=10)"
   ]
  },
  {
   "cell_type": "markdown",
   "metadata": {},
   "source": [
    "###Choosing labels"
   ]
  },
  {
   "cell_type": "code",
   "execution_count": 35,
   "metadata": {
    "collapsed": true
   },
   "outputs": [],
   "source": [
    "pattern = [\n",
    "    ['BACKGROUND','BACKGROUNDS'],\n",
    "    ['METHOD','METHODS'],\n",
    "    ['RESULT','RESULTS'],\n",
    "    ['CONCLUSION','CONCLUSIONS']\n",
    "]"
   ]
  },
  {
   "cell_type": "code",
   "execution_count": 36,
   "metadata": {
    "collapsed": false
   },
   "outputs": [
    {
     "name": "stdout",
     "output_type": "stream",
     "text": [
      "Selecting abstracts...\n",
      "98/219 match the pattern (44%)\n",
      "Done. [0.00s]\n"
     ]
    }
   ],
   "source": [
    "sub_perfect = analyze.get_exactly(lemmatized,pattern=pattern,no_truncate=False)"
   ]
  },
  {
   "cell_type": "code",
   "execution_count": 37,
   "metadata": {
    "collapsed": false
   },
   "outputs": [
    {
     "name": "stdout",
     "output_type": "stream",
     "text": [
      "98 abstracts labeled and ready for the next part!\n"
     ]
    }
   ],
   "source": [
    "print(\"%d abstracts labeled and ready for the next part!\"%len(sub_perfect))"
   ]
  },
  {
   "cell_type": "markdown",
   "metadata": {},
   "source": [
    "##Preparing the data for the classifier"
   ]
  },
  {
   "cell_type": "code",
   "execution_count": 38,
   "metadata": {
    "collapsed": false
   },
   "outputs": [
    {
     "name": "stdout",
     "output_type": "stream",
     "text": [
      "Copying corpus...Done. [0.01s]\n",
      "Creating dictionary of labels...\n",
      "Done. [0.00s]\n"
     ]
    }
   ],
   "source": [
    "dic = preprocess.create_dic(sub_perfect,100)"
   ]
  },
  {
   "cell_type": "code",
   "execution_count": 39,
   "metadata": {
    "collapsed": false
   },
   "outputs": [
    {
     "name": "stdout",
     "output_type": "stream",
     "text": [
      "Keys regrouped: 3\n"
     ]
    }
   ],
   "source": [
    "primary_keyword=['AIM','BACKGROUND','METHOD','RESULT','CONCLUSION','OBJECTIVE','DESIGN','FINDINGS','OUTCOME','PURPOSE']\n",
    "analyze.regroup_keys(dic,primary_keyword)"
   ]
  },
  {
   "cell_type": "code",
   "execution_count": 40,
   "metadata": {
    "collapsed": false
   },
   "outputs": [
    {
     "name": "stdout",
     "output_type": "stream",
     "text": [
      "Keys regplaced: 0\n"
     ]
    }
   ],
   "source": [
    "keys_to_replace = [['INTRODUCTION','OBJECTIVE'],\n",
    "                   ['AIM','PURPOSE'],\n",
    "                   ['CONTEXT']]\n",
    "\n",
    "replace_with =    ['BACKGROUND',\n",
    "                   'OBJECTIVE',\n",
    "                   'BACKGROUND']\n",
    "\n",
    "analyze.replace_keys(dic,keys_to_replace,replace_with)"
   ]
  },
  {
   "cell_type": "code",
   "execution_count": 41,
   "metadata": {
    "collapsed": false
   },
   "outputs": [
    {
     "name": "stdout",
     "output_type": "stream",
     "text": [
      "Sentences per label : ['RESULT 447', u'BACKGROUND 260', u'METHOD 284', u'CONCLUSION 198']\n"
     ]
    }
   ],
   "source": [
    "print(\"Sentences per label :\",[\"%s %d\"%(s,len(dic[s][1])) for s in dic.keys()])"
   ]
  },
  {
   "cell_type": "markdown",
   "metadata": {},
   "source": [
    "###Creating train and test data"
   ]
  },
  {
   "cell_type": "code",
   "execution_count": 42,
   "metadata": {
    "collapsed": false
   },
   "outputs": [
    {
     "data": {
      "text/plain": [
       "['RESULT', u'BACKGROUND', u'METHOD', u'CONCLUSION']"
      ]
     },
     "execution_count": 42,
     "metadata": {},
     "output_type": "execute_result"
    }
   ],
   "source": [
    "# classes to use a classifier onto\n",
    "#classes_names=['BACKGROUND','METHOD','RESULT','CONCLUSION']\n",
    "classes_names = dic.keys()\n",
    "dic.keys()"
   ]
  },
  {
   "cell_type": "code",
   "execution_count": 43,
   "metadata": {
    "collapsed": true
   },
   "outputs": [],
   "source": [
    "classes_names = [u'BACKGROUND', u'METHOD', u'RESULT', u'CONCLUSION']"
   ]
  },
  {
   "cell_type": "code",
   "execution_count": 44,
   "metadata": {
    "collapsed": false
   },
   "outputs": [],
   "source": [
    "# train/test split\n",
    "split = 0.8\n",
    "\n",
    "# truncate the number of abstracts to consider for each label,\n",
    "# -1 to set to the maximum while keeping the number of sentences per labels equal\n",
    "truncate = -1\n",
    "\n",
    "raw_x_train, raw_y_train, raw_x_test, raw_y_test = preprocess.split_data(dic,classes_names,\n",
    "                                                              split_train_test=split,\n",
    "                                                              truncate=-1)"
   ]
  },
  {
   "cell_type": "markdown",
   "metadata": {},
   "source": [
    "Vectorizing"
   ]
  },
  {
   "cell_type": "code",
   "execution_count": 45,
   "metadata": {
    "collapsed": false
   },
   "outputs": [
    {
     "name": "stdout",
     "output_type": "stream",
     "text": [
      "Vectorizing the training set...Done. [0.04s]\n",
      "Getting features...Done. [0.00s]\n",
      "Creating order...Done. [0.02s]\n",
      "Done. [0.06s]\n"
     ]
    }
   ],
   "source": [
    "X_train, y_train, X_test, y_test, feature_names, max_features, vectorizer = preprocess.vectorize_data(raw_x_train, raw_y_train, raw_x_test, raw_y_test)"
   ]
  },
  {
   "cell_type": "markdown",
   "metadata": {},
   "source": [
    "##Training a neural network"
   ]
  },
  {
   "cell_type": "markdown",
   "metadata": {},
   "source": [
    "imports"
   ]
  },
  {
   "cell_type": "markdown",
   "metadata": {},
   "source": [
    "Adapt the data for a LSTM network"
   ]
  },
  {
   "cell_type": "code",
   "execution_count": 46,
   "metadata": {
    "collapsed": false
   },
   "outputs": [
    {
     "name": "stdout",
     "output_type": "stream",
     "text": [
      "Pading sequences...\n",
      "X_train shape: (633, 40)\n",
      "X_test shape: (159, 40)\n",
      "Done. [0.01s]\n"
     ]
    }
   ],
   "source": [
    "X_train, X_test, y_train, y_test = nnlstm.pad_sequence(X_train, X_test, y_train, y_test)"
   ]
  },
  {
   "cell_type": "markdown",
   "metadata": {},
   "source": [
    "<a id='shortcut'></a>\n",
    "shortcut"
   ]
  },
  {
   "cell_type": "code",
   "execution_count": 47,
   "metadata": {
    "collapsed": false
   },
   "outputs": [],
   "source": [
    "#X_train, y_train, X_test, y_test, feature_names, max_features, classes_names, vectorizer = tools.load_pickle(\"data/XyXyfmcv.pickle\")"
   ]
  },
  {
   "cell_type": "markdown",
   "metadata": {},
   "source": [
    "Creating the network"
   ]
  },
  {
   "cell_type": "code",
   "execution_count": 48,
   "metadata": {
    "collapsed": true
   },
   "outputs": [],
   "source": [
    "from keras.models import Sequential\n",
    "from keras.layers.core import Dense, Dropout, Activation\n",
    "from keras.layers.embeddings import Embedding\n",
    "from keras.layers.recurrent import LSTM"
   ]
  },
  {
   "cell_type": "markdown",
   "metadata": {},
   "source": [
    "**Need approximatly a minute to construct the network**"
   ]
  },
  {
   "cell_type": "code",
   "execution_count": 49,
   "metadata": {
    "collapsed": false
   },
   "outputs": [
    {
     "name": "stdout",
     "output_type": "stream",
     "text": [
      "CPU times: user 49.7 s, sys: 692 ms, total: 50.4 s\n",
      "Wall time: 50.7 s\n"
     ]
    },
    {
     "name": "stderr",
     "output_type": "stream",
     "text": [
      "/Library/Python/2.7/site-packages/theano/scan_module/scan_perform_ext.py:133: RuntimeWarning: numpy.ndarray size changed, may indicate binary incompatibility\n",
      "  from scan_perform.scan_perform import *\n"
     ]
    }
   ],
   "source": [
    "%%time\n",
    "dim_out = len(classes_names)\n",
    "\n",
    "net = Sequential()\n",
    "net.add(Embedding(max_features, 256))\n",
    "net.add(LSTM(256, 256))\n",
    "net.add(Dropout(0.5))\n",
    "net.add(Dense(256, dim_out))\n",
    "net.add(Activation('softmax'))\n",
    "net.compile(loss='categorical_crossentropy', optimizer='adam', class_mode=\"categorical\")"
   ]
  },
  {
   "cell_type": "markdown",
   "metadata": {},
   "source": [
    "###Training the network"
   ]
  },
  {
   "cell_type": "code",
   "execution_count": 50,
   "metadata": {
    "collapsed": false
   },
   "outputs": [
    {
     "name": "stdout",
     "output_type": "stream",
     "text": [
      "Training...\n",
      "Train on 633 samples, validate on 159 samples\n",
      "Epoch 0\n",
      "633/633 [==============================] - 10s - loss: 1.3515 - acc: 0.3191 - val_loss: 1.3171 - val_acc: 0.3648\n",
      "Saving at first epoch\n",
      "Epoch 1\n",
      "633/633 [==============================] - 10s - loss: 1.0243 - acc: 0.5924 - val_loss: 0.9762 - val_acc: 0.5723\n",
      "Model improved, saving weight\n",
      "Epoch 2\n",
      "633/633 [==============================] - 10s - loss: 0.4083 - acc: 0.8863 - val_loss: 0.7261 - val_acc: 0.7233\n",
      "Model improved, saving weight\n",
      "Epoch 3\n",
      "633/633 [==============================] - 10s - loss: 0.1744 - acc: 0.9573 - val_loss: 0.8260 - val_acc: 0.7170\n",
      "Epoch 4\n",
      "633/633 [==============================] - 10s - loss: 0.1164 - acc: 0.9700 - val_loss: 0.5327 - val_acc: 0.8113\n",
      "Model improved, saving weight\n",
      "Epoch 5\n",
      "633/633 [==============================] - 11s - loss: 0.0695 - acc: 0.9842 - val_loss: 0.5565 - val_acc: 0.8302\n",
      "Model improved, saving weight\n",
      "Epoch 6\n",
      "633/633 [==============================] - 10s - loss: 0.0468 - acc: 0.9921 - val_loss: 0.4977 - val_acc: 0.8365\n",
      "Model improved, saving weight\n",
      "Epoch 7\n",
      "633/633 [==============================] - 11s - loss: 0.0245 - acc: 0.9968 - val_loss: 0.6206 - val_acc: 0.8302\n",
      "Accuracy keep decreasing, stopping early.\n",
      "Done. [87.78s]\n"
     ]
    }
   ],
   "source": [
    "batch_size=16\n",
    "length_train = 1000\n",
    "length_test = 500\n",
    "history = nnlstm.train_network(net,\n",
    "                          X_train[:length_train],y_train[:length_train],X_test[:length_test],y_test[:length_test],\n",
    "                          10,\n",
    "                          batch_size=batch_size,path_save=\"weights\",patience=2)"
   ]
  },
  {
   "cell_type": "code",
   "execution_count": 51,
   "metadata": {
    "collapsed": true
   },
   "outputs": [],
   "source": [
    "net.load_weights(\"weights/best.hdf5\")"
   ]
  },
  {
   "cell_type": "markdown",
   "metadata": {},
   "source": [
    "##Evaluate the network"
   ]
  },
  {
   "cell_type": "code",
   "execution_count": 52,
   "metadata": {
    "collapsed": false,
    "scrolled": true
   },
   "outputs": [
    {
     "data": {
      "image/png": "[encoded data removed]",
      "text/plain": [
       "<matplotlib.figure.Figure at 0x1123cea90>"
      ]
     },
     "metadata": {},
     "output_type": "display_data"
    }
   ],
   "source": [
    "nnlstm.show_history(history)"
   ]
  },
  {
   "cell_type": "code",
   "execution_count": 53,
   "metadata": {
    "collapsed": false
   },
   "outputs": [
    {
     "name": "stdout",
     "output_type": "stream",
     "text": [
      "No decision: 0 / 159  [0.00%]0 0\n",
      "Accuracy: 0.907233\n",
      "             precision    recall  f1-score   support\n",
      "\n",
      " BACKGROUND       0.97      0.88      0.93        43\n",
      "     METHOD       0.76      0.82      0.79        34\n",
      "     RESULT       0.69      0.77      0.73        31\n",
      " CONCLUSION       0.90      0.84      0.87        51\n",
      "\n",
      "avg / total       0.85      0.84      0.84       159\n",
      "\n",
      "Confusion matrix:\n",
      "[[38  5  0  0]\n",
      " [ 1 28  4  1]\n",
      " [ 0  3 24  4]\n",
      " [ 0  1  7 43]]\n"
     ]
    },
    {
     "data": {
      "image/png": "[encoded data removed]",
      "text/plain": [
       "<matplotlib.figure.Figure at 0x10a90cb90>"
      ]
     },
     "metadata": {},
     "output_type": "display_data"
    }
   ],
   "source": [
    "nnlstm.evaluate_network(net, X_test, y_test, classes_names, length=length_test)"
   ]
  },
  {
   "cell_type": "markdown",
   "metadata": {
    "collapsed": true
   },
   "source": [
    "##Predict on a new corpus"
   ]
  },
  {
   "cell_type": "code",
   "execution_count": 61,
   "metadata": {
    "collapsed": false
   },
   "outputs": [],
   "source": [
    "predictor = nnlstm.LSTMPredictor(net,vectorizer,classes_names,len_graph=20)"
   ]
  },
  {
   "cell_type": "code",
   "execution_count": 62,
   "metadata": {
    "collapsed": true
   },
   "outputs": [],
   "source": [
    "import codecs\n",
    "import re\n",
    "def oold(s):\n",
    "    fname=\"./OLD/data_old/oth_lab/%s\"%s\n",
    "    s=codecs.open(fname, 'r','utf-8')\n",
    "    txt = s.read()\n",
    "    return re.sub(r'[ ]{2,}',' ',re.sub(r'[\\n\\t]+',' ',txt))\n",
    "def ood(s):\n",
    "    fname=\"./OLD/data_old/oth/%s\"%s\n",
    "    s=codecs.open(fname, 'r','utf-8')\n",
    "    txt = s.read()\n",
    "    return re.sub(r'[ ]{2,}',' ',re.sub(r'[\\n\\t]+',' ',txt))"
   ]
  },
  {
   "cell_type": "code",
   "execution_count": 63,
   "metadata": {
    "collapsed": false
   },
   "outputs": [
    {
     "name": "stdout",
     "output_type": "stream",
     "text": [
      "Loading 'data/tokenizer.pickle'...\n",
      "Done. [0.12s]\n"
     ]
    }
   ],
   "source": [
    "tokenizer = tools.load_pickle(\"data/tokenizer.pickle\")"
   ]
  },
  {
   "cell_type": "code",
   "execution_count": 64,
   "metadata": {
    "collapsed": false
   },
   "outputs": [
    {
     "name": "stdout",
     "output_type": "stream",
     "text": [
      "\u001b[41mBACKGROUND      \u001b[0m\u001b[42mMETHOD          \u001b[0m\u001b[43mRESULT          \u001b[0m\u001b[45mCONCLUSION      \u001b[0m\n",
      "BACKGROUND      METHOD          RESULT          CONCLUSION      "
     ]
    }
   ],
   "source": [
    "tools.show_colors(classes_names)"
   ]
  },
  {
   "cell_type": "code",
   "execution_count": 80,
   "metadata": {
    "collapsed": false
   },
   "outputs": [],
   "source": [
    "out = nnlstm.get_oth_lab(oold(\"d10\"),tokenizer)"
   ]
  },
  {
   "cell_type": "code",
   "execution_count": 81,
   "metadata": {
    "collapsed": false
   },
   "outputs": [
    {
     "name": "stdout",
     "output_type": "stream",
     "text": [
      "As a software component for computer game, the physics engine simulates objects' movement according to the laws of physics.\n",
      "\n",
      "\u001b[42mBACKGROUND \u001b[0m|\u001b[37m0.812\u001b[0m|**************** \u001b[32m[true label][predicted label]\u001b[0m\n",
      "METHOD     |\u001b[37m0.044\u001b[0m|\u001b[37m*\u001b[0m\n",
      "RESULT     |\u001b[37m0.008\u001b[0m|\u001b[37m\u001b[0m\n",
      "CONCLUSION |\u001b[37m0.135\u001b[0m|\u001b[37m***\u001b[0m\n",
      "________________________________________________________________________________\n",
      "\n",
      "This paper introduces a design and implementation of mobile game on the Android platform, where we used JBox2D physics engine library and Android graphics APIs.\n",
      "\n",
      "\u001b[42mBACKGROUND \u001b[0m|\u001b[37m0.985\u001b[0m|******************** \u001b[32m[true label][predicted label]\u001b[0m\n",
      "METHOD     |\u001b[37m0.008\u001b[0m|\u001b[37m\u001b[0m\n",
      "RESULT     |\u001b[37m0.001\u001b[0m|\u001b[37m\u001b[0m\n",
      "CONCLUSION |\u001b[37m0.006\u001b[0m|\u001b[37m\u001b[0m\n",
      "________________________________________________________________________________\n",
      "\n",
      "We borrowed the key idea of this game from Crayon Physics which is known as a famous PC game. \n",
      "\n",
      "\u001b[42mBACKGROUND \u001b[0m|\u001b[37m0.509\u001b[0m|********** \u001b[32m[true label][predicted label]\u001b[0m\n",
      "METHOD     |\u001b[37m0.198\u001b[0m|\u001b[37m****\u001b[0m\n",
      "RESULT     |\u001b[37m0.069\u001b[0m|\u001b[37m*\u001b[0m\n",
      "CONCLUSION |\u001b[37m0.224\u001b[0m|\u001b[37m****\u001b[0m\n",
      "________________________________________________________________________________\n",
      "\n",
      "This game starts with no way from user character to destination character.\n",
      "\n",
      "BACKGROUND |\u001b[37m0.222\u001b[0m|\u001b[37m****\u001b[0m\n",
      "\u001b[42mMETHOD     \u001b[0m|\u001b[37m0.456\u001b[0m|********* \u001b[32m[true label][predicted label]\u001b[0m\n",
      "RESULT     |\u001b[37m0.196\u001b[0m|\u001b[37m****\u001b[0m\n",
      "CONCLUSION |\u001b[37m0.125\u001b[0m|\u001b[37m***\u001b[0m\n",
      "________________________________________________________________________________\n",
      "\n",
      "The game user has to make a way to destination character from user character by creating polygon objects between them. \n",
      "\n",
      "BACKGROUND |\u001b[37m0.065\u001b[0m|\u001b[37m*\u001b[0m\n",
      "\u001b[42mMETHOD     \u001b[0m|\u001b[37m0.658\u001b[0m|************* \u001b[32m[true label][predicted label]\u001b[0m\n",
      "RESULT     |\u001b[37m0.220\u001b[0m|\u001b[37m****\u001b[0m\n",
      "CONCLUSION |\u001b[37m0.057\u001b[0m|\u001b[37m*\u001b[0m\n",
      "________________________________________________________________________________\n",
      "\n",
      "The user wins when user character meets destination character.\n",
      "\n",
      "BACKGROUND |\u001b[37m0.191\u001b[0m|\u001b[37m****\u001b[0m\n",
      "\u001b[45mMETHOD     \u001b[0m|\u001b[37m0.403\u001b[0m|******** \u001b[35m[predicted label]\u001b[0m\n",
      "\u001b[43mRESULT     \u001b[0m|\u001b[37m0.216\u001b[0m|**** \u001b[33m[true label]\u001b[0m\n",
      "CONCLUSION |\u001b[37m0.190\u001b[0m|\u001b[37m****\u001b[0m\n",
      "________________________________________________________________________________\n",
      "\n",
      "However, the game user has to decide the time to create objects and their shapes well because all objects in this game are governed by the laws of physics. \n",
      "\n",
      "BACKGROUND |\u001b[37m0.075\u001b[0m|\u001b[37m**\u001b[0m\n",
      "METHOD     |\u001b[37m0.235\u001b[0m|\u001b[37m*****\u001b[0m\n",
      "\u001b[42mRESULT     \u001b[0m|\u001b[37m0.551\u001b[0m|*********** \u001b[32m[true label][predicted label]\u001b[0m\n",
      "CONCLUSION |\u001b[37m0.138\u001b[0m|\u001b[37m***\u001b[0m\n",
      "________________________________________________________________________________\n",
      "\n",
      "As an important thing of this paper, we introduced into this game new input methods of LCD touch and sensors embedded in mobile devices but not in PCs.\n",
      "\n",
      "BACKGROUND |\u001b[37m0.161\u001b[0m|\u001b[37m***\u001b[0m\n",
      "METHOD     |\u001b[37m0.101\u001b[0m|\u001b[37m**\u001b[0m\n",
      "RESULT     |\u001b[37m0.072\u001b[0m|\u001b[37m*\u001b[0m\n",
      "\u001b[42mCONCLUSION \u001b[0m|\u001b[37m0.667\u001b[0m|************* \u001b[32m[true label][predicted label]\u001b[0m\n",
      "________________________________________________________________________________\n",
      "\n",
      "Game users can create objects by drawing polygons with LCD touch and move objects or characters according to sensor values from accelerator sensors by tilting the mobile device. \n",
      "\n",
      "BACKGROUND |\u001b[37m0.009\u001b[0m|\u001b[37m\u001b[0m\n",
      "METHOD     |\u001b[37m0.004\u001b[0m|\u001b[37m\u001b[0m\n",
      "RESULT     |\u001b[37m0.003\u001b[0m|\u001b[37m\u001b[0m\n",
      "\u001b[42mCONCLUSION \u001b[0m|\u001b[37m0.984\u001b[0m|******************** \u001b[32m[true label][predicted label]\u001b[0m\n",
      "________________________________________________________________________________\n",
      "\n"
     ]
    }
   ],
   "source": [
    "predictor.predict_labeled(out)"
   ]
  },
  {
   "cell_type": "code",
   "execution_count": null,
   "metadata": {
    "collapsed": true
   },
   "outputs": [],
   "source": []
  }
 ],
 "metadata": {
  "kernelspec": {
   "display_name": "Python 2",
   "language": "python",
   "name": "python2"
  },
  "language_info": {
   "codemirror_mode": {
    "name": "ipython",
    "version": 2
   },
   "file_extension": ".py",
   "mimetype": "text/x-python",
   "name": "python",
   "nbconvert_exporter": "python",
   "pygments_lexer": "ipython2",
   "version": "2.7.6"
  }
 },
 "nbformat": 4,
 "nbformat_minor": 0
}
