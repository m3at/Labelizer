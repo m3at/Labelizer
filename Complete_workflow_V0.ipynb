{
 "cells": [
  {
   "cell_type": "markdown",
   "metadata": {},
   "source": [
    "Bunch of imports"
   ]
  },
  {
   "cell_type": "code",
   "execution_count": 140,
   "metadata": {
    "collapsed": false
   },
   "outputs": [],
   "source": [
    "%matplotlib inline\n",
    "import codecs\n",
    "import re\n",
    "import numpy as np\n",
    "import sys\n",
    "import nltk\n",
    "import pickle\n",
    "import random\n",
    "import copy\n",
    "from time import time\n",
    "from functools import wraps\n",
    "from multiprocessing import Pool\n",
    "import multiprocessing"
   ]
  },
  {
   "cell_type": "markdown",
   "metadata": {},
   "source": [
    "Python 3 compatibility"
   ]
  },
  {
   "cell_type": "code",
   "execution_count": 141,
   "metadata": {
    "collapsed": true
   },
   "outputs": [],
   "source": [
    "from __future__ import absolute_import\n",
    "from __future__ import print_function"
   ]
  },
  {
   "cell_type": "markdown",
   "metadata": {},
   "source": [
    "##Exctract the MedLine data"
   ]
  },
  {
   "cell_type": "code",
   "execution_count": 142,
   "metadata": {
    "collapsed": false
   },
   "outputs": [],
   "source": [
    "import tools"
   ]
  },
  {
   "cell_type": "code",
   "execution_count": 143,
   "metadata": {
    "collapsed": true
   },
   "outputs": [],
   "source": [
    "def extract_txt(fname):\n",
    "    t0 = time()\n",
    "    print(\"Exctracting from '%s'...\"%(fname.split('/')[-1].split('.')[0]))\n",
    "    sys.stdout.flush()\n",
    "    s=codecs.open(fname, 'r','utf-8')\n",
    "    txt = s.read()\n",
    "    # Use the properties of the Medline abstracts to separate documents\n",
    "    # Specific to the corpus\n",
    "    abstracts = re.split(r'PMID.*\\n{2,}', txt)\n",
    "    del abstracts[-1]\n",
    "    s.close()\n",
    "    \n",
    "    duration = time()-t0\n",
    "    print(\"%d documents exctracted - %s  [%s/s]\" % (len(abstracts), tools.sizeof_h(sys.getsizeof(abstracts)),\n",
    "                                         tools.sizeof_h(sys.getsizeof(abstracts) / duration)))\n",
    "    print(\"Done. [%.02fs]\"%(time()-t0))\n",
    "    \n",
    "    return abstracts"
   ]
  },
  {
   "cell_type": "code",
   "execution_count": 7,
   "metadata": {
    "collapsed": false
   },
   "outputs": [
    {
     "name": "stdout",
     "output_type": "stream",
     "text": [
      "Exctracting from 'reduced_100000'...\n",
      "2253 documents exctracted - 18.2KB  [403.6KB/s]\n",
      "Done. [0.05s]\n"
     ]
    }
   ],
   "source": [
    "data = extract_txt('data/reduced_100000.txt')"
   ]
  },
  {
   "cell_type": "markdown",
   "metadata": {},
   "source": [
    "##Isolate the abstracts"
   ]
  },
  {
   "cell_type": "code",
   "execution_count": 144,
   "metadata": {
    "collapsed": true
   },
   "outputs": [],
   "source": [
    "def isolate_labels(subset):\n",
    "    find = r'(AIM:|AIMS:|[A-Z][-A-Z /\\\\]{4,}:)'\n",
    "    labels = re.findall(find,subset,re.MULTILINE)\n",
    "    return labels"
   ]
  },
  {
   "cell_type": "code",
   "execution_count": 145,
   "metadata": {
    "collapsed": true
   },
   "outputs": [],
   "source": [
    "def sub_get_abstracts(subset):\n",
    "    out=[]\n",
    "    cmpt=[]\n",
    "    find = r'.+?(?=\\n\\n)'\n",
    "    for idx,pick in enumerate(subset):\n",
    "        labels = re.finditer(find,pick,re.MULTILINE)\n",
    "        classes=[]\n",
    "        while True:\n",
    "            try:\n",
    "                res = labels.next()\n",
    "                classes.append([\n",
    "                        res.string[res.start():res.end()],\n",
    "                        res.start(),\n",
    "                        res.end()\n",
    "                    ])\n",
    "            except StopIteration:\n",
    "                break\n",
    "    \n",
    "        leng = len(classes)\n",
    "        cmpt.append(leng)\n",
    "        try:\n",
    "            if leng<5:\n",
    "                out.append(pick[classes[2][2]+2:classes[3][2]])\n",
    "                continue\n",
    "            labels = isolate_labels(pick[classes[3][2]+2:classes[4][2]])\n",
    "            if len(labels)==0:\n",
    "                labels = isolate_labels(pick[classes[2][2]+2:classes[3][2]])\n",
    "            if len(labels)==0:\n",
    "                labels = isolate_labels(pick[classes[4][2]+2:classes[5][2]])\n",
    "                if len(labels)==0:\n",
    "                    labels = isolate_labels(pick[classes[5][2]+2:classes[6][2]])\n",
    "                    out.append(pick[classes[5][2]+2:classes[6][2]])\n",
    "                else:\n",
    "                    out.append(pick[classes[4][2]+2:classes[5][2]])\n",
    "            else:\n",
    "                out.append(pick[classes[3][2]+2:classes[4][2]])\n",
    "        except:\n",
    "            out.append(pick[classes[2][2]+2:classes[3][2]])\n",
    "    return out\n",
    "\n",
    "def get_abstracts(subset,nb_core=multiprocessing.cpu_count()):\n",
    "    print(\"Working on %d core...\"%(nb_core))\n",
    "    t0 = time()\n",
    "    out=[]\n",
    "    d={}\n",
    "    results=[]\n",
    "    pool = Pool(nb_core)\n",
    "\n",
    "    for x in range(0,nb_core):\n",
    "        d[\"tab{0}\".format(x)]=[]\n",
    "        #d[\"tab%d\"%x]=[]\n",
    "    \n",
    "    for idx,i in enumerate(subset):\n",
    "        d['tab%d'%(idx%nb_core)].append(i)\n",
    "    \n",
    "    for x in range(0,nb_core):\n",
    "        ress = pool.apply_async(sub_get_abstracts,[d['tab%d'%(x%nb_core)]])\n",
    "        results.append(ress)\n",
    "    \n",
    "    pool.close()\n",
    "    pool.join()\n",
    "\n",
    "    for i in results:\n",
    "        out.extend(i.get())\n",
    "        \n",
    "    print(\"%s/s on each of the [%d] core\" % (tools.sizeof_h((sys.getsizeof(subset)/nb_core)/(time()-t0)),nb_core))\n",
    "    print(\"Done. [%.02fs]\"%(time()-t0))\n",
    "    return out"
   ]
  },
  {
   "cell_type": "code",
   "execution_count": 10,
   "metadata": {
    "collapsed": false
   },
   "outputs": [
    {
     "name": "stdout",
     "output_type": "stream",
     "text": [
      "Working on 4 core...\n",
      "2.1KB/s on each of the [4] core\n",
      "Done. [2.20s]\n"
     ]
    }
   ],
   "source": [
    "abstracts = get_abstracts(data)"
   ]
  },
  {
   "cell_type": "code",
   "execution_count": 146,
   "metadata": {
    "collapsed": true
   },
   "outputs": [],
   "source": [
    "def get_err(subset):\n",
    "    t0 = time()\n",
    "    cpt=0\n",
    "    cpt2=0\n",
    "    list_at_zero=[]\n",
    "    list_at_one=[]\n",
    "    list_at_two=[]\n",
    "    for idx,i in enumerate(subset):\n",
    "        try:\n",
    "            iso = isolate_labels(i)\n",
    "            if len(iso)<3:\n",
    "                cpt+=1\n",
    "                if len(iso)==0:\n",
    "                    cpt2+=1\n",
    "                    list_at_zero.append(idx)\n",
    "                elif len(iso)<2:\n",
    "                    list_at_one.append(idx)\n",
    "                else:\n",
    "                    list_at_two.append(idx)\n",
    "        except:\n",
    "            list_at_zero.append(idx)\n",
    "    l1,l2,l3 = len(list_at_zero),len(list_at_one),len(list_at_two)\n",
    "    \"\"\"\n",
    "    print(\">Labels found :\")\n",
    "    print(\"Zero%s\"%str(l1).rjust(10,' '))\n",
    "    print(\"One %s\"%str(l2).rjust(10,' '))\n",
    "    print(\"Two %s\"%str(l3).rjust(10,' '))\n",
    "    print(\"%.01f%% have more than 2 labels [%d/%d]\" %(100-(l1+l2+l3)/(len(subset)+0.0)*100,len(subset),(l1+l2+l3)))\n",
    "    print(\">Time : %.04fs\" % (time()-t0))\n",
    "    \"\"\"\n",
    "    return list_at_zero,list_at_one,list_at_two"
   ]
  },
  {
   "cell_type": "markdown",
   "metadata": {},
   "source": [
    "Cleaning, dumping the abstracts with errors, quick and dirty"
   ]
  },
  {
   "cell_type": "code",
   "execution_count": 147,
   "metadata": {
    "collapsed": true
   },
   "outputs": [],
   "source": [
    "def remove_err(datas,errs):\n",
    "    err=sorted([item for subitem in errs for item in subitem],reverse=True)\n",
    "    for e in err:\n",
    "        for d in datas:\n",
    "            del d[e]"
   ]
  },
  {
   "cell_type": "code",
   "execution_count": 13,
   "metadata": {
    "collapsed": true
   },
   "outputs": [],
   "source": [
    "remove_err([abstracts],get_err(abstracts))"
   ]
  },
  {
   "cell_type": "markdown",
   "metadata": {},
   "source": [
    "Replacing numbers with ##NB"
   ]
  },
  {
   "cell_type": "code",
   "execution_count": 14,
   "metadata": {
    "collapsed": false
   },
   "outputs": [],
   "source": [
    "find = r'[0-9]+\\.[0-9]+|[0-9]+,[0-9]+|[0-9]+'\n",
    "for idx,i in enumerate(abstracts):\n",
    "    abstracts[idx] = re.sub(find,r'##NB',i)"
   ]
  },
  {
   "cell_type": "markdown",
   "metadata": {},
   "source": [
    "Creation of a tokenizer for a correct sentence splitting"
   ]
  },
  {
   "cell_type": "code",
   "execution_count": 15,
   "metadata": {
    "collapsed": false
   },
   "outputs": [
    {
     "name": "stdout",
     "output_type": "stream",
     "text": [
      "Loading sentence tokenizer...\n",
      "Done. [0.14s]\n"
     ]
    }
   ],
   "source": [
    "try:\n",
    "    t0 = time()\n",
    "    print(\"Loading sentence tokenizer...\")\n",
    "    sys.stdout.flush()\n",
    "    tokenizer = pickle.load(open(\"data_processed/tokenizer.pickle\", \"rb\"))\n",
    "    print(\"Done. [%.02fs]\"%(time()-t0)) \n",
    "except (OSError, IOError) as e:\n",
    "    print(\"No existing tokenizer, creating one...\")\n",
    "    sys.stdout.flush()\n",
    "    try:\n",
    "        y = int(raw_input(\"Number of articles for the parser training? [Max: %d]\\n>\"%(len(abstracts))))\n",
    "        if y<=0 or y>(len(abstracts)):\n",
    "            raise ValueError\n",
    "    except ValueError as ve:\n",
    "        y = len(abstracts)\n",
    "        print(\"%s was not understood, using max [%d] instead.\"%y)\n",
    "    print(\"Training tokenizer...\")\n",
    "    sys.stdout.flush()\n",
    "    t0=time()\n",
    "    tokenizer = nltk.tokenize.punkt.PunktSentenceTokenizer()\n",
    "    text = \"\\n\\n\".join(abstracts[0:1000])\n",
    "    tokenizer.train(text)\n",
    "    print(\"Trained. [%.02fs]\"%(time()-t0))\n",
    "    tools.dump_pickle(tokenizer,\"data_processed/tokenizer.pickle\")"
   ]
  },
  {
   "cell_type": "code",
   "execution_count": 148,
   "metadata": {
    "collapsed": true
   },
   "outputs": [],
   "source": [
    "def get_sentences_labels(subset):\n",
    "    find = r'(AIM:|[A-Z][-A-Z /\\\\]{4,}:)'\n",
    "    labels = re.finditer(find,subset,re.MULTILINE)\n",
    "    classes=[]\n",
    "    while True:\n",
    "        try:\n",
    "            res = labels.next()\n",
    "            classes.append([\n",
    "                    res.string[res.start():res.end()-1],\n",
    "                    res.start(),\n",
    "                    res.end()\n",
    "                ])\n",
    "        except StopIteration:\n",
    "            break\n",
    "    out = []\n",
    "    leng = len(subset)\n",
    "    if len(classes)<2:\n",
    "        #print \"huh\"\n",
    "        #print [classes[0][0],re.sub(r'\\n',' ',subset[classes[0][2]+1:])]\n",
    "        return\n",
    "    for idx,lab in enumerate(classes):\n",
    "        if idx == len(classes)-1:\n",
    "            break\n",
    "        out.append([\n",
    "                lab[0],\n",
    "                tokenizer.sentences_from_text(re.sub(r'\\n',' ',subset[lab[2]+1:classes[idx+1][1]]))\n",
    "                ])\n",
    "    out.append([\n",
    "            lab[0],\n",
    "            tokenizer.sentences_from_text(re.sub(r'\\n',' ',subset[classes[-1][2]+1:leng]))\n",
    "            ])\n",
    "    return out"
   ]
  },
  {
   "cell_type": "code",
   "execution_count": 149,
   "metadata": {
    "collapsed": true
   },
   "outputs": [],
   "source": [
    "def interm(subset):\n",
    "        res = []\n",
    "        for i in subset:\n",
    "            tmp = get_sentences_labels(i)\n",
    "            res.append(tmp)\n",
    "        return res"
   ]
  },
  {
   "cell_type": "code",
   "execution_count": 150,
   "metadata": {
    "collapsed": true
   },
   "outputs": [],
   "source": [
    "def ex_all_labels(subset,nb_core=multiprocessing.cpu_count()):\n",
    "    print(\"Working on %d core...\"%(nb_core))\n",
    "    sys.stdout.flush()\n",
    "    t0 = time()\n",
    "    out=[]\n",
    "    d={}\n",
    "    results=[]\n",
    "    pool = Pool(nb_core)\n",
    "\n",
    "    for x in range(0,nb_core):\n",
    "        d[\"tab{0}\".format(x)]=[]\n",
    "        #d[\"tab%d\"%x]=[]\n",
    "    \n",
    "    for idx,i in enumerate(subset):\n",
    "        d['tab%d'%(idx%nb_core)].append(i)\n",
    "    \n",
    "    for x in range(0,nb_core):\n",
    "        ress = pool.apply_async(interm,[d['tab%d'%(x%nb_core)]])\n",
    "        results.append(ress)\n",
    "    \n",
    "    pool.close()\n",
    "    pool.join()\n",
    "\n",
    "    for i in results:\n",
    "        out.extend(i.get())\n",
    "        \n",
    "    print(\"%s/s on each of the [%d] core\" % (tools.sizeof_h((sys.getsizeof(subset)/nb_core)/(time()-t0)),nb_core))\n",
    "    print(\"Done. [%.02fs]\"%(time()-t0))\n",
    "    return out"
   ]
  },
  {
   "cell_type": "code",
   "execution_count": 19,
   "metadata": {
    "collapsed": false,
    "scrolled": true
   },
   "outputs": [
    {
     "name": "stdout",
     "output_type": "stream",
     "text": [
      "Working on 4 core...\n",
      "4.7KB/s on each of the [4] core\n",
      "Done. [1.07s]\n"
     ]
    }
   ],
   "source": [
    "abstracts_labeled = ex_all_labels(abstracts)"
   ]
  },
  {
   "cell_type": "markdown",
   "metadata": {},
   "source": [
    "##Lemmatization and special imports"
   ]
  },
  {
   "cell_type": "code",
   "execution_count": 21,
   "metadata": {
    "collapsed": true
   },
   "outputs": [],
   "source": [
    "from textblob import Word\n",
    "#from textblob import TextBlob\n",
    "from textblob import Blobber\n",
    "from textblob_aptagger import PerceptronTagger"
   ]
  },
  {
   "cell_type": "code",
   "execution_count": 22,
   "metadata": {
    "collapsed": true
   },
   "outputs": [],
   "source": [
    "def sub_lemm(subset):\n",
    "    suba = []\n",
    "    tb = Blobber(pos_tagger=PerceptronTagger())\n",
    "    for abst in subset:\n",
    "        t_a=[]\n",
    "        for labl in abst:\n",
    "            t_l=[]\n",
    "            for t in labl[1]:\n",
    "                tag = tb(t.lower()).tags\n",
    "                ph_out=[]\n",
    "                for i in tag:\n",
    "                    if i[1][0]=='V':\n",
    "                        ph_out.append(Word(i[0]).lemmatize('v'))\n",
    "                    elif i[1][0]=='N':\n",
    "                        ph_out.append(Word(i[0]).lemmatize('n'))\n",
    "                    else:\n",
    "                        ph_out.append(i[0])\n",
    "                #print \"LEM\",time()-t1\n",
    "                t_l.append(' '.join(ph_out))\n",
    "            t_a.append([labl[0],t_l])\n",
    "        suba.append(t_a)\n",
    "    return suba"
   ]
  },
  {
   "cell_type": "code",
   "execution_count": 23,
   "metadata": {
    "collapsed": true
   },
   "outputs": [],
   "source": [
    "def lemm(subset,show_time=True,nb_core=multiprocessing.cpu_count()):\n",
    "    print(\"Working on %d core...\"%(nb_core))\n",
    "    print(\"Splitting datas...\",end=\" \")\n",
    "    sys.stdout.flush()\n",
    "    out=[]\n",
    "    d={}\n",
    "    results=[]\n",
    "    pool = Pool(nb_core)\n",
    "    \n",
    "    for x in range(0,nb_core):\n",
    "        d[\"tab{0}\".format(x)]=[]\n",
    "        #d[\"tab%d\"%x]=[]\n",
    "\n",
    "    for idx,i in enumerate(subset):\n",
    "        d['tab%d'%(idx%nb_core)].append(i)\n",
    "\n",
    "    t0 = time()\n",
    "    for x in range(0,nb_core):\n",
    "        ress = pool.apply_async(sub_lemm,[d['tab%d'%(x%nb_core)]])\n",
    "        results.append(ress)\n",
    "    print(\"Done. [%.02fs]\"%(time()-t0))\n",
    "    print(\"Lemmatizing...\")\n",
    "    sys.stdout.flush() \n",
    "    t0 = time()\n",
    "    pool.close()\n",
    "    pool.join()\n",
    "    for i in results:\n",
    "        out.extend(i.get())\n",
    "    print(\"Done. [%.02fs]\"%(time()-t0))\n",
    "    return out"
   ]
  },
  {
   "cell_type": "code",
   "execution_count": 24,
   "metadata": {
    "collapsed": false
   },
   "outputs": [
    {
     "name": "stdout",
     "output_type": "stream",
     "text": [
      "Working on 4 core...\n",
      "Splitting datas... Done. [0.00s]\n",
      "Lemmatizing...\n",
      "Done. [43.62s]\n"
     ]
    }
   ],
   "source": [
    "lemmatized = lemm(abstracts_labeled)"
   ]
  },
  {
   "cell_type": "code",
   "execution_count": null,
   "metadata": {
    "collapsed": true
   },
   "outputs": [],
   "source": [
    "#lemmatized = tools.load_pickle(\"data/name.pickle\")"
   ]
  },
  {
   "cell_type": "markdown",
   "metadata": {},
   "source": [
    "###Label analysis\n",
    "*Does not affect the corpus*"
   ]
  },
  {
   "cell_type": "code",
   "execution_count": 30,
   "metadata": {
    "collapsed": true
   },
   "outputs": [],
   "source": [
    "def create_dic_simple(subset_o):\n",
    "    t0 = time()\n",
    "    print(\"Creating dictionary of labels...\")\n",
    "    subset = copy.deepcopy(subset_o)\n",
    "    sys.stdout.flush()\n",
    "    dic = {}\n",
    "    def add_dic(s,t):\n",
    "        try:\n",
    "            dic[s][0] += 1\n",
    "            dic[s][1] += t\n",
    "        except KeyError:\n",
    "            dic[s] = [1,t]\n",
    "    for idx, i in enumerate(subset):\n",
    "        for j in i:\n",
    "            add_dic(j[0],j[1])\n",
    "    print(\"Done. [%.02fs]\"%(time()-t0))\n",
    "    return dic"
   ]
  },
  {
   "cell_type": "code",
   "execution_count": 151,
   "metadata": {
    "collapsed": false
   },
   "outputs": [],
   "source": [
    "def show_keys(dic,threshold=5000):\n",
    "    w = []\n",
    "    for i in dic.keys():\n",
    "        w.append([i,dic[i][0]])\n",
    "    w.sort(key=lambda x: x[1],reverse=True)\n",
    "    for idx,i in enumerate(w):\n",
    "        if i[1]>=threshold:\n",
    "            print(str(i[1]).ljust(9,\"_\")+i[0])\n",
    "        else:   \n",
    "            print(\"...\\n(%d other labels with less than %d occurences)\\n...\"%(len(w)-idx,threshold))\n",
    "            break"
   ]
  },
  {
   "cell_type": "code",
   "execution_count": 152,
   "metadata": {
    "collapsed": true
   },
   "outputs": [],
   "source": [
    "def regroup_keys(dic,primary_keyword):\n",
    "    cpt=0\n",
    "    for j in primary_keyword:\n",
    "        for i in dic.keys():\n",
    "            if i != j and (str(i).find(j) != -1):\n",
    "                try:\n",
    "                    cpt+=1\n",
    "                    dic[j][0]+=dic[i][0]\n",
    "                    dic[j][1]+=dic[i][1]\n",
    "                    del dic[i]\n",
    "                except KeyError:\n",
    "                    dic[j]=[dic[i][0],dic[i][1]]\n",
    "                    del dic[i]\n",
    "                    pass\n",
    "    print(\"Keys regrouped:\",cpt)"
   ]
  },
  {
   "cell_type": "code",
   "execution_count": 153,
   "metadata": {
    "collapsed": true
   },
   "outputs": [],
   "source": [
    "def replace_keys(dic, keys_to_replace, replace_with):\n",
    "    cpt=0\n",
    "    for idx,jj in enumerate(keys_to_replace):\n",
    "        for j in jj:  \n",
    "            try:\n",
    "                dic[replace_with[idx]][0]+=dic[j][0]\n",
    "                dic[replace_with[idx]][1]+=dic[j][1]\n",
    "                del dic[j]\n",
    "                cpt+=1\n",
    "            except KeyError:\n",
    "                try:\n",
    "                    dic[replace_with[idx]]=[dic[j][0],dic[j][1]]\n",
    "                    del dic[j]\n",
    "                    cpt+=1\n",
    "                except KeyError:\n",
    "                    pass\n",
    "    print(\"Keys regplaced:\",cpt)"
   ]
  },
  {
   "cell_type": "code",
   "execution_count": 39,
   "metadata": {
    "collapsed": false
   },
   "outputs": [
    {
     "name": "stdout",
     "output_type": "stream",
     "text": [
      "Creating dictionary of labels...\n",
      "Done. [0.12s]\n"
     ]
    }
   ],
   "source": [
    "dic = create_dic_simple(lemmatized)"
   ]
  },
  {
   "cell_type": "code",
   "execution_count": 52,
   "metadata": {
    "collapsed": false,
    "scrolled": false
   },
   "outputs": [
    {
     "name": "stdout",
     "output_type": "stream",
     "text": [
      "Number of labels : 201\n",
      "1945_____RESULTS\n",
      "1434_____METHODS\n",
      "1253_____BACKGROUND\n",
      "1065_____CONCLUSION\n",
      "1011_____CONCLUSIONS\n",
      "384______OBJECTIVE\n",
      "183______INTRODUCTION\n",
      "179______MATERIALS AND METHODS\n",
      "145______PURPOSE\n",
      "142______OBJECTIVES\n",
      "111______AIM\n",
      "...\n",
      "(190 other labels with less than 100 occurences)\n",
      "...\n"
     ]
    }
   ],
   "source": [
    "print(\"Number of labels :\",len(dic.keys()))\n",
    "show_keys(dic,threshold=100)"
   ]
  },
  {
   "cell_type": "code",
   "execution_count": 53,
   "metadata": {
    "collapsed": true
   },
   "outputs": [],
   "source": [
    "primary_keyword=['AIM','BACKGROUND','METHOD','RESULT','CONCLUSION','OBJECTIVE','DESIGN','FINDINGS','OUTCOME','PURPOSE']"
   ]
  },
  {
   "cell_type": "code",
   "execution_count": 54,
   "metadata": {
    "collapsed": false
   },
   "outputs": [
    {
     "name": "stdout",
     "output_type": "stream",
     "text": [
      "Keys regrouped: 97\n"
     ]
    }
   ],
   "source": [
    "regroup_keys(dic,primary_keyword)"
   ]
  },
  {
   "cell_type": "code",
   "execution_count": 56,
   "metadata": {
    "collapsed": false
   },
   "outputs": [
    {
     "name": "stdout",
     "output_type": "stream",
     "text": [
      "2117_____CONCLUSION\n",
      "1985_____RESULT\n",
      "1918_____METHOD\n",
      "1285_____BACKGROUND\n",
      "531______OBJECTIVE\n",
      "183______INTRODUCTION\n",
      "179______AIM\n",
      "145______PURPOSE\n",
      "...\n",
      "(97 other labels with less than 100 occurences)\n",
      "...\n"
     ]
    }
   ],
   "source": [
    "show_keys(dic,threshold=100)"
   ]
  },
  {
   "cell_type": "code",
   "execution_count": 57,
   "metadata": {
    "collapsed": false
   },
   "outputs": [],
   "source": [
    "keys_to_replace = [['INTRODUCTION'],\n",
    "                   ['AIM','PURPOSE'],\n",
    "                   ['CONTEXT']]\n",
    "\n",
    "replace_with =    ['BACKGROUND',\n",
    "                   'OBJECTIVE',\n",
    "                   'BACKGROUND']"
   ]
  },
  {
   "cell_type": "code",
   "execution_count": 58,
   "metadata": {
    "collapsed": false
   },
   "outputs": [
    {
     "name": "stdout",
     "output_type": "stream",
     "text": [
      "Keys regplaced: 4\n"
     ]
    }
   ],
   "source": [
    "replace_keys(dic,keys_to_replace,replace_with)"
   ]
  },
  {
   "cell_type": "code",
   "execution_count": 60,
   "metadata": {
    "collapsed": false
   },
   "outputs": [
    {
     "name": "stdout",
     "output_type": "stream",
     "text": [
      "2117_____CONCLUSION\n",
      "1985_____RESULT\n",
      "1918_____METHOD\n",
      "1475_____BACKGROUND\n",
      "855______OBJECTIVE\n",
      "...\n",
      "(96 other labels with less than 100 occurences)\n",
      "...\n"
     ]
    }
   ],
   "source": [
    "show_keys(dic,threshold=100)"
   ]
  },
  {
   "cell_type": "markdown",
   "metadata": {},
   "source": [
    "###Choosing labels"
   ]
  },
  {
   "cell_type": "code",
   "execution_count": 154,
   "metadata": {
    "collapsed": false
   },
   "outputs": [],
   "source": [
    "def get_exactly(subset,\n",
    "             pattern=[['BACKGROUND','BACKGROUNDS'],\n",
    "                             ['METHOD','METHODS'],\n",
    "                             ['RESULT','RESULTS'],\n",
    "                             ['CONCLUSION','CONCLUSIONS']],\n",
    "             no_truncate=False):\n",
    "    t0 = time()\n",
    "    print(\"Selecting abstracts...\")\n",
    "    sys.stdout.flush()\n",
    "    sub_perfect=[]\n",
    "    for i in subset:\n",
    "        match=True\n",
    "        try:\n",
    "            for idx,j in enumerate(pattern):\n",
    "                if not i[idx][0] in j:\n",
    "                    match=False\n",
    "                    break\n",
    "            if match:\n",
    "                if not no_truncate:\n",
    "                    sub_perfect.append(i[:len(pattern)])\n",
    "                else:\n",
    "                    if len(i)==len(pattern):\n",
    "                        sub_perfect.append(i[:len(pattern)])\n",
    "        except:\n",
    "            pass\n",
    "    cpt=float(len(sub_perfect))\n",
    "    print(\"%d/%d match the pattern (%d%%)\" %(cpt,len(subset),int((cpt/len(subset))*100)))\n",
    "    print(\"Done. [%.02fs]\"%(time()-t0))\n",
    "    return sub_perfect"
   ]
  },
  {
   "cell_type": "code",
   "execution_count": 155,
   "metadata": {
    "collapsed": true
   },
   "outputs": [],
   "source": [
    "pattern = [\n",
    "    ['BACKGROUND','BACKGROUNDS','OBJECTIVE'],\n",
    "    ['METHOD','METHODS'],\n",
    "    ['RESULT','RESULTS'],\n",
    "    ['CONCLUSION','CONCLUSIONS']\n",
    "]"
   ]
  },
  {
   "cell_type": "code",
   "execution_count": 70,
   "metadata": {
    "collapsed": false
   },
   "outputs": [
    {
     "name": "stdout",
     "output_type": "stream",
     "text": [
      "Selecting abstracts...\n",
      "901/2201 match the pattern (40%)\n",
      "Done. [0.06s]\n"
     ]
    }
   ],
   "source": [
    "sub_perfect = get_exactly(lemmatized,pattern=pattern,no_truncate=False)"
   ]
  },
  {
   "cell_type": "code",
   "execution_count": 71,
   "metadata": {
    "collapsed": false
   },
   "outputs": [
    {
     "name": "stdout",
     "output_type": "stream",
     "text": [
      "901 abstracts labeled and ready for the next part!\n"
     ]
    }
   ],
   "source": [
    "print(\"%d abstracts labeled and ready for the next part!\"%len(sub_perfect))"
   ]
  },
  {
   "cell_type": "markdown",
   "metadata": {},
   "source": [
    "##Preparing the data for the classifier"
   ]
  },
  {
   "cell_type": "code",
   "execution_count": 156,
   "metadata": {
    "collapsed": true
   },
   "outputs": [],
   "source": [
    "# %matplotlib inline\n",
    "import logging\n",
    "from optparse import OptionParser\n",
    "from time import time\n",
    "import matplotlib.pyplot as plt\n",
    "\n",
    "#from sklearn.datasets import fetch_20newsgroups\n",
    "from sklearn.feature_extraction.text import TfidfVectorizer\n",
    "#from sklearn.feature_extraction import DictVectorizer\n",
    "#from sklearn.feature_extraction.text import HashingVectorizer\n",
    "#from sklearn.feature_selection import SelectKBest, chi2\n",
    "#from sklearn.linear_model import RidgeClassifier\n",
    "#from sklearn.pipeline import Pipeline\n",
    "from sklearn.svm import LinearSVC\n",
    "#from sklearn.linear_model import SGDClassifier\n",
    "#from sklearn.linear_model import Perceptron\n",
    "#from sklearn.linear_model import PassiveAggressiveClassifier\n",
    "#from sklearn.naive_bayes import BernoulliNB, MultinomialNB\n",
    "#from sklearn.neighbors import KNeighborsClassifier\n",
    "#from sklearn.neighbors import NearestCentroid\n",
    "#from sklearn.ensemble import RandomForestClassifier\n",
    "#from sklearn.utils.extmath import density\n",
    "from sklearn import metrics\n",
    "\n",
    "from sklearn.metrics import confusion_matrix\n",
    "#from sklearn.ensemble import ExtraTreesClassifier\n",
    "#from sklearn.ensemble import AdaBoostClassifier\n",
    "\n",
    "\n"
   ]
  },
  {
   "cell_type": "code",
   "execution_count": 157,
   "metadata": {
    "collapsed": true
   },
   "outputs": [],
   "source": [
    "def create_dic(subset,nb_index):\n",
    "    t0 = time()\n",
    "    print(\"Creating dictionary of labels...\")\n",
    "    sys.stdout.flush()\n",
    "    dic = {}\n",
    "    # remove the copy when a better solution is found\n",
    "    stt = copy.deepcopy(subset)\n",
    "    for idx, i in enumerate(stt):\n",
    "        cpt=0.0\n",
    "        for x in i:\n",
    "            cpt+=len(x[1])\n",
    "        cc=0\n",
    "        for j in i:\n",
    "            tmp=[]\n",
    "            for smt in j[1]:\n",
    "                tmp.append(\"##LEN%s ##POS%s ##IDX%s %s\"%(cpt,cc,str(int((cc/cpt)*nb_index)),smt))\n",
    "                cc+=1\n",
    "            try:\n",
    "                dic[j[0]][0] += 1\n",
    "                dic[j[0]][1] += tmp\n",
    "            except KeyError:\n",
    "                dic[j[0]] = [1,tmp]\n",
    "    print(\"Done. [%.02fs]\"%(time()-t0))\n",
    "    return dic"
   ]
  },
  {
   "cell_type": "code",
   "execution_count": 74,
   "metadata": {
    "collapsed": false
   },
   "outputs": [
    {
     "name": "stdout",
     "output_type": "stream",
     "text": [
      "Creating dictionary of labels...\n",
      "Done. [0.09s]\n"
     ]
    }
   ],
   "source": [
    "dic = create_dic(sub_perfect,100)"
   ]
  },
  {
   "cell_type": "code",
   "execution_count": 75,
   "metadata": {
    "collapsed": false
   },
   "outputs": [
    {
     "name": "stdout",
     "output_type": "stream",
     "text": [
      "Keys regrouped: 3\n"
     ]
    }
   ],
   "source": [
    "primary_keyword=['AIM','BACKGROUND','METHOD','RESULT','CONCLUSION','OBJECTIVE','DESIGN','FINDINGS','OUTCOME','PURPOSE']\n",
    "regroup_keys(dic,primary_keyword)"
   ]
  },
  {
   "cell_type": "code",
   "execution_count": 76,
   "metadata": {
    "collapsed": false
   },
   "outputs": [
    {
     "name": "stdout",
     "output_type": "stream",
     "text": [
      "Keys regplaced: 0\n"
     ]
    }
   ],
   "source": [
    "keys_to_replace = [['HUM','SOMETHING'],\n",
    "                   ['OUTCOME'],\n",
    "                   ['CONTEXT']]\n",
    "\n",
    "replace_with =    ['BACKGROUND',\n",
    "                   'FINDINGS',\n",
    "                   'BACKGROUND']\n",
    "\n",
    "replace_keys(dic,keys_to_replace,replace_with)"
   ]
  },
  {
   "cell_type": "code",
   "execution_count": 77,
   "metadata": {
    "collapsed": false
   },
   "outputs": [
    {
     "name": "stdout",
     "output_type": "stream",
     "text": [
      "Sentences per label : [u'RESULT 3885', u'BACKGROUND 1872', u'OBJECTIVE 335', u'METHOD 2866', u'CONCLUSION 1803']\n"
     ]
    }
   ],
   "source": [
    "print(\"Sentences per label :\",[\"%s %d\"%(s,len(dic[s][1])) for s in dic.keys()])"
   ]
  },
  {
   "cell_type": "markdown",
   "metadata": {},
   "source": [
    "###Creating train and test data"
   ]
  },
  {
   "cell_type": "code",
   "execution_count": 158,
   "metadata": {
    "collapsed": true
   },
   "outputs": [],
   "source": [
    "np.random.seed(1337)  # for reproducibility\n",
    "random.seed(1337)"
   ]
  },
  {
   "cell_type": "code",
   "execution_count": 79,
   "metadata": {
    "collapsed": false
   },
   "outputs": [
    {
     "data": {
      "text/plain": [
       "[u'RESULT', u'BACKGROUND', u'OBJECTIVE', u'METHOD', u'CONCLUSION']"
      ]
     },
     "execution_count": 79,
     "metadata": {},
     "output_type": "execute_result"
    }
   ],
   "source": [
    "# classes to use a classifier onto\n",
    "#classes_names=['BACKGROUND','METHOD','RESULT','CONCLUSION']\n",
    "classes_names = dic.keys()\n",
    "dic.keys()"
   ]
  },
  {
   "cell_type": "code",
   "execution_count": 159,
   "metadata": {
    "collapsed": false
   },
   "outputs": [],
   "source": [
    "def split_data(dic,classes_names,split_train_test = 0.8,truncate=-1):\n",
    "    classes=[]\n",
    "    tmp_x=[]\n",
    "    tmp_y=[]\n",
    "    \n",
    "    def _vect_label(n,nb):\n",
    "        tmp = np.zeros(nb)\n",
    "        tmp[n] = 1\n",
    "        return tmp\n",
    "    \n",
    "    if truncate<0:\n",
    "        truncate = min(len(dic[e][1]) for e in classes_names)\n",
    "        \n",
    "    for idx,c in enumerate(classes_names):\n",
    "        classes.append(idx)\n",
    "        tmp_x.extend(dic[c][1][:truncate])\n",
    "        tmp_y.extend(np.tile(_vect_label(idx,len(classes_names)),(truncate,1)))\n",
    "\n",
    "    x_shuf = []\n",
    "    y_shuf = []\n",
    "    \n",
    "    index_shuf = range(len(tmp_y))\n",
    "    random.shuffle(index_shuf)\n",
    "    for i in index_shuf:\n",
    "        x_shuf.append(tmp_x[i])\n",
    "        y_shuf.append(tmp_y[i])\n",
    "\n",
    "    sp = int(len(y_shuf)*split_train_test)\n",
    "    raw_x_train,raw_x_test = x_shuf[:sp],x_shuf[sp:]\n",
    "    raw_y_train,raw_y_test = y_shuf[:sp],y_shuf[sp:]\n",
    "    return raw_x_train, raw_y_train, raw_x_test, raw_y_test"
   ]
  },
  {
   "cell_type": "code",
   "execution_count": 81,
   "metadata": {
    "collapsed": false
   },
   "outputs": [],
   "source": [
    "# train/test split\n",
    "split = 0.8\n",
    "\n",
    "# truncate the number of abstracts to consider for each label,\n",
    "# -1 to set to the maximum while keeping the number of sentences per labels equal\n",
    "truncate = -1\n",
    "\n",
    "raw_x_train, raw_y_train, raw_x_test, raw_y_test = split_data(dic,classes_names,\n",
    "                                                              split_train_test=split,\n",
    "                                                              truncate=-1)"
   ]
  },
  {
   "cell_type": "markdown",
   "metadata": {},
   "source": [
    "Vectorizing"
   ]
  },
  {
   "cell_type": "code",
   "execution_count": 82,
   "metadata": {
    "collapsed": true
   },
   "outputs": [],
   "source": [
    "vectorizer = TfidfVectorizer(sublinear_tf=True,\n",
    "                             min_df=0.0000005,\n",
    "                             ngram_range=(1,1),\n",
    "                             stop_words='english',\n",
    "                             token_pattern=r'[a-z0-9#]{2,}')"
   ]
  },
  {
   "cell_type": "code",
   "execution_count": 83,
   "metadata": {
    "collapsed": true
   },
   "outputs": [],
   "source": [
    "def vectorize_data(vectorizer, raw_x_train, raw_y_train, raw_x_test, raw_y_test):\n",
    "    t0 = time()\n",
    "    \n",
    "    print(\"Vectorizing the training set...\",end=\"\"); sys.stdout.flush()\n",
    "    vectorizer.fit(raw_x_train)\n",
    "    print(\"Done. [%.02fs]\"%(time()-t0)); sys.stdout.flush()\n",
    "    \n",
    "    #print(\"Vectorizing the training set...\",end=\"\"); sys.stdout.flush()\n",
    "    #i_tmp_X_train = vectorizer.fit_transform(raw_x_train)\n",
    "    #print(\"Done. [%.02fs]\"%(time()-t0)); sys.stdout.flush()\n",
    "    \n",
    "    #t1 = time()\n",
    "    #print(\"Vectorizing the testing set...\",end=\"\"); sys.stdout.flush()\n",
    "    #i_tmp_X_test = vectorizer.transform(raw_x_test)\n",
    "    #print(\"Done. [%.02fs]\"%(time()-t1)); sys.stdout.flush()\n",
    "    \n",
    "    t2 = time()\n",
    "    print(\"Getting features...\",end=\"\"); sys.stdout.flush()\n",
    "    feature_names = vectorizer.get_feature_names()\n",
    "    print(\"Done. [%.02fs]\"%(time()-t2)); sys.stdout.flush()\n",
    "    \n",
    "    tmp_y_train = raw_y_train\n",
    "    tmp_y_test = raw_y_test\n",
    "    \n",
    "    t3 = time()\n",
    "    print(\"Creating order...\",end=\"\"); sys.stdout.flush()\n",
    "    tmp_dic={}\n",
    "    max_features = len(vectorizer.vocabulary_) + 1\n",
    "    for idx, i in enumerate(feature_names):\n",
    "        tmp_dic[i]=idx+1\n",
    "        \n",
    "    tmp_X_train = []\n",
    "    c = re.compile(r'[a-z0-9#]{2,}')\n",
    "    for i in range(len(raw_x_train)):\n",
    "        l = c.findall(raw_x_train[i].lower())\n",
    "        x = []\n",
    "        for i in l:\n",
    "            try:\n",
    "                x.append(tmp_dic[i])\n",
    "            except KeyError:\n",
    "                pass\n",
    "        tmp_X_train.append(x)\n",
    "\n",
    "    tmp_X_test = []\n",
    "\n",
    "    for i in range(len(raw_x_test)):\n",
    "        l = c.findall(raw_x_test[i].lower())\n",
    "        x = []\n",
    "        for i in l:\n",
    "            try:\n",
    "                x.append(tmp_dic[i])\n",
    "            except KeyError:\n",
    "                pass\n",
    "        tmp_X_test.append(x)\n",
    "    print(\"Done. [%.02fs]\"%(time()-t3)); sys.stdout.flush()\n",
    "       \n",
    "    print(\"Done. [%.02fs]\"%(time()-t0))\n",
    "    return tmp_X_train, tmp_y_train, tmp_X_test, tmp_y_test, feature_names, max_features\n",
    "    "
   ]
  },
  {
   "cell_type": "code",
   "execution_count": 84,
   "metadata": {
    "collapsed": false
   },
   "outputs": [
    {
     "name": "stdout",
     "output_type": "stream",
     "text": [
      "Vectorizing the training set...Done. [0.07s]\n",
      "Getting features...Done. [0.00s]\n",
      "Creating order...Done. [0.05s]\n",
      "Done. [0.13s]\n"
     ]
    }
   ],
   "source": [
    "X_train, y_train, X_test, y_test, feature_names, max_features = vectorize_data(vectorizer,raw_x_train, raw_y_train, raw_x_test, raw_y_test)"
   ]
  },
  {
   "cell_type": "markdown",
   "metadata": {},
   "source": [
    "##Training a neural network"
   ]
  },
  {
   "cell_type": "markdown",
   "metadata": {},
   "source": [
    "imports"
   ]
  },
  {
   "cell_type": "code",
   "execution_count": 163,
   "metadata": {
    "collapsed": true
   },
   "outputs": [],
   "source": [
    "from keras.preprocessing import sequence\n",
    "from keras.optimizers import SGD, RMSprop, Adagrad, Adam\n",
    "#from keras.utils import np_utils\n",
    "from keras.models import Sequential\n",
    "#from keras.layers.core import Dense, Dropout, Activation\n",
    "from keras.layers.core import *\n",
    "from keras.layers.embeddings import Embedding\n",
    "from keras.layers.recurrent import LSTM, GRU, JZS1\n",
    "from keras.callbacks import *\n",
    "\n",
    "#import seaborn as sns\n",
    "import seaborn.apionly as sns\n",
    "\n",
    "\n",
    "from sklearn.metrics import confusion_matrix"
   ]
  },
  {
   "cell_type": "markdown",
   "metadata": {},
   "source": [
    "Adapt the data for a LSTM network"
   ]
  },
  {
   "cell_type": "code",
   "execution_count": 86,
   "metadata": {
    "collapsed": false
   },
   "outputs": [
    {
     "name": "stdout",
     "output_type": "stream",
     "text": [
      "Pad sequences (samples x time)\n",
      "X_train shape: (1340, 40)\n",
      "X_test shape: (335, 40)\n"
     ]
    }
   ],
   "source": [
    "print(\"Pad sequences (samples x time)\")\n",
    "sys.stdout.flush()\n",
    "X_train = sequence.pad_sequences(X_train, maxlen=40)\n",
    "X_test = sequence.pad_sequences(X_test, maxlen=40)\n",
    "y_train = np.array(y_train)\n",
    "y_test = np.array(y_test)\n",
    "print('X_train shape:', X_train.shape)\n",
    "print('X_test shape:', X_test.shape)"
   ]
  },
  {
   "cell_type": "code",
   "execution_count": 162,
   "metadata": {
    "collapsed": false
   },
   "outputs": [
    {
     "name": "stdout",
     "output_type": "stream",
     "text": [
      "Loading 'XyXyfmcv.pickle'...\n",
      "Done. [2.00s]\n"
     ]
    }
   ],
   "source": [
    "X_train, y_train, X_test, y_test, feature_names, max_features, classes_names, vectorizer = tools.load_pickle(\"XyXyfmcv.pickle\")"
   ]
  },
  {
   "cell_type": "markdown",
   "metadata": {},
   "source": [
    "Creating the network"
   ]
  },
  {
   "cell_type": "code",
   "execution_count": 164,
   "metadata": {
    "collapsed": false
   },
   "outputs": [
    {
     "name": "stdout",
     "output_type": "stream",
     "text": [
      "Building model...\n",
      "CPU times: user 53.8 s, sys: 1.42 s, total: 55.2 s\n",
      "Wall time: 55.3 s\n"
     ]
    }
   ],
   "source": [
    "%%time\n",
    "dim_out = len(classes_names)\n",
    "\n",
    "print('Building model...')\n",
    "sys.stdout.flush()\n",
    "net = Sequential()\n",
    "net.add(Embedding(max_features, 256))\n",
    "net.add(LSTM(256, 256))\n",
    "net.add(Dropout(0.5))\n",
    "net.add(Dense(256, dim_out))\n",
    "net.add(Activation('softmax'))\n",
    "net.compile(loss='categorical_crossentropy', optimizer='adam', class_mode=\"categorical\")"
   ]
  },
  {
   "cell_type": "code",
   "execution_count": 167,
   "metadata": {
    "collapsed": false
   },
   "outputs": [
    {
     "data": {
      "text/plain": [
       "98296"
      ]
     },
     "execution_count": 167,
     "metadata": {},
     "output_type": "execute_result"
    }
   ],
   "source": [
    "len(X_test)"
   ]
  },
  {
   "cell_type": "markdown",
   "metadata": {},
   "source": [
    "Training the network"
   ]
  },
  {
   "cell_type": "code",
   "execution_count": 166,
   "metadata": {
    "collapsed": true
   },
   "outputs": [],
   "source": [
    "def train_network(network,\n",
    "                  X_train,y_train,X_test,y_test,\n",
    "                  epoch,\n",
    "                  batch_size=64,path_save=\"/tmp/weights.hdf5\"):\n",
    "    #t0=time()\n",
    "    print(\"Training...\")\n",
    "    sys.stdout.flush()\n",
    "\n",
    "    class LossHistory(Callback):\n",
    "        def on_train_begin(self, logs={}):\n",
    "            self.losses = []\n",
    "            self.accuracy = []\n",
    "            self.val_losses = []\n",
    "            self.val_accuracy = []\n",
    "            self.metric = []\n",
    "\n",
    "        def on_batch_end(self, batch, logs={}):\n",
    "            self.losses.append(logs.get('loss'))\n",
    "            self.accuracy.append(logs.get('acc'))\n",
    "            \n",
    "        def on_epoch_end(self, epoch, logs={}):\n",
    "            self.val_losses.append(logs.get('val_loss'))\n",
    "            self.val_accuracy.append(logs.get('val_acc'))\n",
    "            self.metric.append(self.val_accuracy[-1]-(self.val_losses[-1]/10.))\n",
    "            if len(self.val_accuracy)<2:\n",
    "                network.save_weights(path_save,overwrite=True)\n",
    "                print(\"Saving at first epoch\")\n",
    "            else:\n",
    "                tmp = True\n",
    "                for i in self.metric[:-1]:\n",
    "                    if self.metric[-1]<i:\n",
    "                        tmp = False\n",
    "                        break\n",
    "                if tmp:\n",
    "                    network.save_weights(path_save,overwrite=True)\n",
    "                    print(\"Model improved, saving weight\")\n",
    "\n",
    "    history = LossHistory()\n",
    "    earlystop = EarlyStopping(monitor='val_acc', patience=2, verbose=1)\n",
    "    #checkpoint = ModelCheckpoint(filepath=path_save, verbose=1, save_best_only=True)\n",
    "\n",
    "\n",
    "    network.fit(X_train, y_train, batch_size=batch_size, nb_epoch=epoch,\n",
    "                validation_data=(X_test, y_test), show_accuracy=True, callbacks=[history,earlystop])\n",
    "    #score, acc = network.evaluate(X_test, y_test, batch_size=batch_size, show_accuracy=True)\n",
    "    #print('Test score:', score)\n",
    "    #print('Test accuracy:', acc)\n",
    "    #print(history.losses)\n",
    "    network.load_weights(path_save)\n",
    "    return history"
   ]
  },
  {
   "cell_type": "code",
   "execution_count": 168,
   "metadata": {
    "collapsed": false
   },
   "outputs": [
    {
     "name": "stdout",
     "output_type": "stream",
     "text": [
      "Training...\n",
      "Train on 20000 samples, validate on 20000 samples\n",
      "Epoch 0\n",
      "20000/20000 [==============================] - 454s - loss: 0.7760 - acc: 0.6437 - val_loss: 0.5696 - val_acc: 0.7288\n",
      "Saving at first epoch\n",
      "Epoch 1\n",
      "20000/20000 [==============================] - 451s - loss: 0.4440 - acc: 0.7978 - val_loss: 0.5099 - val_acc: 0.7687\n",
      "Model improved, saving weight\n",
      "Epoch 2\n",
      "20000/20000 [==============================] - 450s - loss: 0.3176 - acc: 0.8695 - val_loss: 0.5342 - val_acc: 0.7718\n",
      "Model improved, saving weight\n",
      "Epoch 3\n",
      "20000/20000 [==============================] - 452s - loss: 0.2196 - acc: 0.9181 - val_loss: 0.6250 - val_acc: 0.7602\n",
      "Epoch 00003: early stopping\n"
     ]
    }
   ],
   "source": [
    "history = train_network(net,\n",
    "                          X_train[:20000],y_train[:20000],X_test[:20000],y_test[:20000],\n",
    "                          20,\n",
    "                          batch_size=64,path_save=\"/tmp/weights.hdf5\")"
   ]
  },
  {
   "cell_type": "markdown",
   "metadata": {},
   "source": [
    "##Evaluate the network"
   ]
  },
  {
   "cell_type": "code",
   "execution_count": 169,
   "metadata": {
    "collapsed": false
   },
   "outputs": [
    {
     "data": {
      "image/png": "[encoded data removed]",
      "text/plain": [
       "<matplotlib.figure.Figure at 0x115c702d0>"
      ]
     },
     "metadata": {},
     "output_type": "display_data"
    }
   ],
   "source": [
    "sns.set_style(\"darkgrid\")\n",
    "sns.set_context(\"notebook\", font_scale=1.5, rc={\"lines.linewidth\": 1.6})\n",
    "sns.mpl.rc(\"figure\", figsize=(16,5))\n",
    "f, (ax1, ax2) = plt.subplots(1, 2, sharey=True)\n",
    "ax1.plot(history.losses, color=\"#47d024\")\n",
    "ax1.plot(history.accuracy, color=\"#0672b6\")\n",
    "ax1.legend([\"loss\",\"accuracy\"])\n",
    "ax1.set_title(\"Batch validation\")\n",
    "\n",
    "ax2.plot(history.val_losses, color=\"#47d024\")\n",
    "ax2.plot(history.val_accuracy, color=\"#0672b6\")\n",
    "ax2.legend([\"loss\",\"accuracy\"])\n",
    "ax2.set_title(\"Epoch validation\")\n",
    "\n",
    "plt.show()"
   ]
  },
  {
   "cell_type": "code",
   "execution_count": 170,
   "metadata": {
    "collapsed": false
   },
   "outputs": [],
   "source": [
    "def evaluate_network(network, X_test, y_test):\n",
    "    resp = network.predict_proba(X_test,batch_size=16,verbose=False)\n",
    "    resc = network.predict_classes(X_test,batch_size=16,verbose=False)\n",
    "\n",
    "    a1=[]\n",
    "    a2=[]\n",
    "    cpt=0\n",
    "    cpt_on=[]\n",
    "    cpt_real=[]\n",
    "    cpt_should=0\n",
    "    should=[]\n",
    "    cpt_shouldnt=0\n",
    "    shouldnt=[]\n",
    "    for idx, i in enumerate(resc):\n",
    "        a1.append(i)\n",
    "        a2.append(np.array(y_test[idx]).argmax())\n",
    "        if i.tolist()==[0,0,0,0]:\n",
    "            cpt+=1\n",
    "            cpt_on.append(resp[idx].argmax())\n",
    "            cpt_real.append(np.array(y_test[idx]).argmax())\n",
    "            if cpt_on[-1]==cpt_real[-1]:\n",
    "                cpt_should+=1\n",
    "                should.append(resp[idx].argmax())\n",
    "            else:\n",
    "                cpt_shouldnt+=1\n",
    "                shouldnt.append(resp[idx].argmax())\n",
    "            #print(resp[idx])\n",
    "    print(\"No decision: %d / %d  [%.02f%%]\"%(cpt,len(resc),\n",
    "                                          (cpt/float(len(resc)))*100 ) , end=\"\")\n",
    "    print(cpt_should,cpt_shouldnt)\n",
    "    \n",
    "    print(\"Accuracy: %.06f\"%metrics.label_ranking_average_precision_score(y_test,resp))\n",
    "    \n",
    "    cpt_on = np.array(cpt_on)\n",
    "    print(metrics.classification_report(a1,a2,target_names=classes_names))\n",
    "    \n",
    "    print(\"Confusion matrix:\")\n",
    "    cm = confusion_matrix(a1, a2)\n",
    "    print(cm)\n",
    "    sns.set_style(\"ticks\")\n",
    "    sns.mpl.rc(\"figure\", figsize=(8,4))\n",
    "\n",
    "    #ax1.get_yaxis().set_tick_params(which='both', direction='out')\n",
    "    #ax1.get_xaxis().set_tick_params(which='both', direction='out')\n",
    "\n",
    "    np.set_printoptions(precision=2)\n",
    "    cm_normalized = cm.astype('float') / cm.sum(axis=1)[:, np.newaxis]\n",
    "    fig = plt.figure()\n",
    "    plt.imshow(cm_normalized, interpolation='nearest', cmap=plt.cm.Blues)\n",
    "    plt.title('Normalized confusion matrix')\n",
    "    plt.colorbar()\n",
    "    tick_marks = np.arange(len(classes_names))\n",
    "    plt.xticks(tick_marks, classes_names, rotation=45)\n",
    "    plt.yticks(tick_marks, classes_names)\n",
    "    plt.ylabel('True label')\n",
    "    plt.xlabel('Predicted label')\n",
    "    plt.tick_params(which='both', direction='in',length=0)\n",
    "    plt.show()\n",
    "    return a1,a2"
   ]
  },
  {
   "cell_type": "code",
   "execution_count": 171,
   "metadata": {
    "collapsed": false
   },
   "outputs": [
    {
     "name": "stdout",
     "output_type": "stream",
     "text": [
      "No decision: 0 / 98296  [0.00%]0 0\n",
      "Accuracy: 0.881743\n",
      "             precision    recall  f1-score   support\n",
      "\n",
      "     RESULT       0.78      0.87      0.82     17311\n",
      " BACKGROUND       0.65      0.63      0.64     20100\n",
      "  OBJECTIVE       0.63      0.66      0.65     18923\n",
      "     METHOD       0.87      0.81      0.84     21346\n",
      " CONCLUSION       0.95      0.90      0.92     20616\n",
      "\n",
      "avg / total       0.78      0.77      0.78     98296\n",
      "\n",
      "Confusion matrix:\n",
      "[[15147    39    36  1150   939]\n",
      " [   77 12731  6353   936     3]\n",
      " [   21  5916 12504   477     5]\n",
      " [ 2303   968   848 17197    30]\n",
      " [ 1969    17     8    44 18578]]\n"
     ]
    },
    {
     "data": {
      "image/png": "[encoded data removed]",
      "text/plain": [
       "<matplotlib.figure.Figure at 0x1292c44d0>"
      ]
     },
     "metadata": {},
     "output_type": "display_data"
    }
   ],
   "source": [
    "# white, dark, whitegrid, darkgrid, ticks\n",
    "a1,a2=evaluate_network(net, X_test[:20000], y_test[:20000])"
   ]
  },
  {
   "cell_type": "markdown",
   "metadata": {
    "collapsed": true
   },
   "source": [
    "##Predict on a new corpus"
   ]
  },
  {
   "cell_type": "code",
   "execution_count": 137,
   "metadata": {
    "collapsed": false
   },
   "outputs": [
    {
     "name": "stdout",
     "output_type": "stream",
     "text": [
      "[u'RESULT', u'BACKGROUND', u'OBJECTIVE', u'METHOD', u'CONCLUSION']\n",
      "[36]\n",
      "[[ 0.  0.  0.  0.  1.]]\n",
      "Correct >> CONCLUSION\n",
      "Predict >> CONCLUSION\n",
      "[4]\n",
      "[  2.00e-03   8.43e-04   4.14e-04   5.32e-04   9.96e-01]\n",
      "\n",
      "##len12\n",
      "aa\n",
      "##idx82\n",
      "childbirth\n",
      "contain\n",
      "session\n",
      "province\n",
      "recent\n",
      "informative\n",
      "individualised\n",
      "follower\n",
      "needle\n",
      "established\n"
     ]
    }
   ],
   "source": [
    "t = np.array([random.choice(range(X_test.shape[0]))])\n",
    "corr = classes_names\n",
    "print(classes_names)\n",
    "print(t)\n",
    "print(y_test[t])\n",
    "\n",
    "print(\"Correct >>\",corr[ np.array(y_test[t]).argmax() ])\n",
    "x = X_test[t]\n",
    "\n",
    "pred = net.predict_proba(x, batch_size=32,verbose=False)[0]\n",
    "print(\"Predict >>\",corr[ pred.argmax() ])\n",
    "print(net.predict_classes(x, batch_size=32,verbose=False))\n",
    "print(pred)\n",
    "\n",
    "\n",
    "print()\n",
    "for i in x.tolist()[0]:\n",
    "    if i!=0:\n",
    "        print(feature_names[i])"
   ]
  },
  {
   "cell_type": "code",
   "execution_count": 139,
   "metadata": {
    "collapsed": false
   },
   "outputs": [
    {
     "name": "stdout",
     "output_type": "stream",
     "text": [
      "\u001b[41mRESULT          \u001b[0m\u001b[42mBACKGROUND      \u001b[0m\u001b[43mOBJECTIVE       \u001b[0m\u001b[45mMETHOD          \u001b[0m\u001b[46mCONCLUSION      \u001b[0m\n",
      "RESULT          BACKGROUND      OBJECTIVE       METHOD          CONCLUSION      "
     ]
    }
   ],
   "source": [
    "tools.show_colors(dic)"
   ]
  },
  {
   "cell_type": "code",
   "execution_count": null,
   "metadata": {
    "collapsed": true
   },
   "outputs": [],
   "source": [
    "def network_predict_labeled(network,lab):\n",
    "    cc=0\n",
    "    for i in lab:\n",
    "        #print '-'*80\n",
    "        #print i[0]\n",
    "        #print '^'*80\n",
    "        #['METHOD','RESULT','CONCLUSION','BACKGROUND']\n",
    "        d={'METHOD':2,'RESULT':3,'CONCLUSION':6,'BACKGROUND':5}\n",
    "        cpt=0.0\n",
    "        for x in lab:\n",
    "            cpt+=len(x[1])\n",
    "        tmp=[]\n",
    "        for smt in i[1]:\n",
    "            tmp.append(\"##IDX%s %s\"%(str(int((cc/cpt)*NB_INDEX)),smt))\n",
    "            cc+=1\n",
    "        for j in tmp:\n",
    "            confidence,predd = get_prediction(j)\n",
    "            j=j[7:]\n",
    "            if i[0]!=predd:\n",
    "                print(\"\\x1b[4%dm%s\\x1b[0m [Confidence: %.02f] \\x1b[41mdifferent\\x1b[0m\\n\\x1b[4%dm%s\\x1b[0m\\n\"%(d[i[0]],i[0].ljust(10),confidence,d[predd],j)) \n",
    "            else:\n",
    "                print(\"\\x1b[4%dm%s\\x1b[0m [Confidence: %.02f]\\n\\x1b[4%dm%s\\x1b[0m\\n\"%(d[i[0]],i[0].ljust(10),confidence,d[predd],j))\n",
    "        "
   ]
  },
  {
   "cell_type": "code",
   "execution_count": null,
   "metadata": {
    "collapsed": true
   },
   "outputs": [],
   "source": []
  },
  {
   "cell_type": "code",
   "execution_count": null,
   "metadata": {
    "collapsed": true
   },
   "outputs": [],
   "source": []
  },
  {
   "cell_type": "code",
   "execution_count": null,
   "metadata": {
    "collapsed": true
   },
   "outputs": [],
   "source": []
  },
  {
   "cell_type": "code",
   "execution_count": null,
   "metadata": {
    "collapsed": true
   },
   "outputs": [],
   "source": []
  },
  {
   "cell_type": "code",
   "execution_count": null,
   "metadata": {
    "collapsed": true
   },
   "outputs": [],
   "source": []
  },
  {
   "cell_type": "code",
   "execution_count": null,
   "metadata": {
    "collapsed": true
   },
   "outputs": [],
   "source": []
  },
  {
   "cell_type": "code",
   "execution_count": null,
   "metadata": {
    "collapsed": true
   },
   "outputs": [],
   "source": []
  },
  {
   "cell_type": "code",
   "execution_count": null,
   "metadata": {
    "collapsed": true
   },
   "outputs": [],
   "source": []
  },
  {
   "cell_type": "code",
   "execution_count": null,
   "metadata": {
    "collapsed": true
   },
   "outputs": [],
   "source": []
  },
  {
   "cell_type": "code",
   "execution_count": null,
   "metadata": {
    "collapsed": true
   },
   "outputs": [],
   "source": []
  },
  {
   "cell_type": "code",
   "execution_count": null,
   "metadata": {
    "collapsed": true
   },
   "outputs": [],
   "source": []
  },
  {
   "cell_type": "code",
   "execution_count": null,
   "metadata": {
    "collapsed": true
   },
   "outputs": [],
   "source": []
  },
  {
   "cell_type": "code",
   "execution_count": null,
   "metadata": {
    "collapsed": true
   },
   "outputs": [],
   "source": []
  },
  {
   "cell_type": "code",
   "execution_count": null,
   "metadata": {
    "collapsed": true
   },
   "outputs": [],
   "source": []
  },
  {
   "cell_type": "code",
   "execution_count": null,
   "metadata": {
    "collapsed": true
   },
   "outputs": [],
   "source": []
  },
  {
   "cell_type": "code",
   "execution_count": null,
   "metadata": {
    "collapsed": true
   },
   "outputs": [],
   "source": []
  },
  {
   "cell_type": "code",
   "execution_count": null,
   "metadata": {
    "collapsed": true
   },
   "outputs": [],
   "source": []
  },
  {
   "cell_type": "code",
   "execution_count": null,
   "metadata": {
    "collapsed": true
   },
   "outputs": [],
   "source": []
  },
  {
   "cell_type": "code",
   "execution_count": null,
   "metadata": {
    "collapsed": true
   },
   "outputs": [],
   "source": []
  }
 ],
 "metadata": {
  "kernelspec": {
   "display_name": "Python 2",
   "language": "python",
   "name": "python2"
  },
  "language_info": {
   "codemirror_mode": {
    "name": "ipython",
    "version": 2
   },
   "file_extension": ".py",
   "mimetype": "text/x-python",
   "name": "python",
   "nbconvert_exporter": "python",
   "pygments_lexer": "ipython2",
   "version": "2.7.6"
  }
 },
 "nbformat": 4,
 "nbformat_minor": 0
}
